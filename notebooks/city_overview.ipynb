{
 "cells": [
  {
   "cell_type": "markdown",
   "metadata": {},
   "source": [
    "# Automated blogging example\n",
    "This notebook helps assemble and compose blog posts based on media composed from other sources.\n",
    "It leverages different APIs and other freely available web resources and composes\n",
    "them into posts, in this example making city specific reocmmendations. To run this notebook you'd have to supply\n",
    "your own API keys for the various services."
   ]
  },
  {
   "cell_type": "markdown",
   "metadata": {},
   "source": [
    "# Go down this list and create blog posts for each:\n",
    "https://en.wikipedia.org/wiki/List_of_United_States_cities_by_population"
   ]
  },
  {
   "cell_type": "code",
   "execution_count": null,
   "metadata": {
    "collapsed": false
   },
   "outputs": [],
   "source": [
    "import argparse\n",
    "import io\n",
    "import os\n",
    "import json\n",
    "import re\n",
    "import requests\n",
    "import sys\n",
    "import urllib\n",
    "from urllib2 import HTTPError\n",
    "from urllib import quote\n",
    "from urllib import urlencode\n",
    "import wikipedia\n",
    "\n",
    "\n",
    "from PIL import Image\n",
    "from resizeimage import resizeimage\n",
    "from bs4 import BeautifulSoup\n",
    "from summa.summarizer import summarize\n",
    "\n",
    "from IPython.core.display import display, HTML\n",
    "display(HTML('<h1>This is how we display HTML</h1>'))"
   ]
  },
  {
   "cell_type": "code",
   "execution_count": null,
   "metadata": {
    "collapsed": true
   },
   "outputs": [],
   "source": [
    "# Constants and API keys\n",
    "# City Name\n",
    "city = \"Dallas\"\n",
    "city_shorthand = \"Dallas\"\n",
    "YELP_LOCATION = 'Dallas'\n",
    "wiki_city = \"Dallas\" # Wikipedia page\n",
    "url = \"https://www.tripadvisor.com/Attractions-g55711-Activities-Dallas_Texas.html\"\n",
    "base_url = 'https://www.tripadvisor.com/Attractions-g55711-Activities-'\n",
    "location_url = 'Dallas_Texas.html'\n",
    "\n",
    "user_agent = 'Mozilla/5.0 (Macintosh; U; Intel Mac OS X 10_6_4; en-US) AppleWebKit/534.3 (KHTML, like Gecko) Chrome/6.0.472.63 Safari/534.3'\n",
    "headers = { 'User-Agent' : user_agent }\n",
    "\n",
    "YELP_SEARCH_TERM = 'cocktail'\n",
    "YELP_HOTEL_TERM = 'hotels'\n",
    "\n",
    "# API Keys\n",
    "YELP_API_KEY=\"Get your own\"\n",
    "MAPS_API_KEY=\"Get your own\""
   ]
  },
  {
   "cell_type": "code",
   "execution_count": null,
   "metadata": {
    "collapsed": false
   },
   "outputs": [],
   "source": [
    "cd .."
   ]
  },
  {
   "cell_type": "code",
   "execution_count": null,
   "metadata": {
    "collapsed": false
   },
   "outputs": [],
   "source": [
    "# Make a directory to store all the data we'll get\n",
    "try:\n",
    "    os.mkdir(city_shorthand)\n",
    "except Exception, msg:\n",
    "    print msg"
   ]
  },
  {
   "cell_type": "markdown",
   "metadata": {},
   "source": [
    "### City Summary\n",
    "Summarize city information pulled from wikipedia"
   ]
  },
  {
   "cell_type": "code",
   "execution_count": null,
   "metadata": {
    "collapsed": true
   },
   "outputs": [],
   "source": [
    "wikipage = wikipedia.page(wiki_city)"
   ]
  },
  {
   "cell_type": "code",
   "execution_count": null,
   "metadata": {
    "collapsed": true
   },
   "outputs": [],
   "source": [
    "content = wikipage.content"
   ]
  },
  {
   "cell_type": "code",
   "execution_count": null,
   "metadata": {
    "collapsed": false
   },
   "outputs": [],
   "source": [
    "content = content.rstrip('\\n')"
   ]
  },
  {
   "cell_type": "markdown",
   "metadata": {
    "collapsed": true
   },
   "source": [
    "### Sights to see\n",
    "Generate a list of places to see, pulled from TA."
   ]
  },
  {
   "cell_type": "code",
   "execution_count": null,
   "metadata": {
    "collapsed": false
   },
   "outputs": [],
   "source": [
    "def dl_page_src(url):\n",
    "    print(url)\n",
    "    response = requests.get(url, headers=headers)\n",
    "    soup = BeautifulSoup(response.content, 'html.parser')\n",
    "    with io.open('tripadvisor.html', 'w', encoding='utf-8') as saved_page:\n",
    "        saved_page.write(soup.prettify(encoding='utf-8').decode('utf-8'))\n",
    "\n",
    "def get_image_list(soup):\n",
    "    # get all the script tags then get the one that contains the line\n",
    "    # 'var lazyImgs'\n",
    "    script_tags = soup.find_all('script')\n",
    "    pattern = re.compile('var\\s*?lazyImgs\\s*?=\\s*?(\\[.*?\\]);', re.DOTALL)\n",
    "    \n",
    "    for tag in script_tags:\n",
    "        matches = pattern.search(tag.text)    \n",
    "        if matches:\n",
    "            image_list = json.loads(matches.group(1))\n",
    "            return image_list\n",
    "\n",
    "dl_page_src(base_url + location_url)\n",
    "\n",
    "with io.open('tripadvisor.html', encoding='utf-8') as page_src:\n",
    "    source = page_src.read()\n",
    "\n",
    "soup = BeautifulSoup(source, 'html.parser')\n",
    "\n",
    "# get the lazy loaded image list\n",
    "image_list = get_image_list(soup)"
   ]
  },
  {
   "cell_type": "code",
   "execution_count": null,
   "metadata": {
    "collapsed": false
   },
   "outputs": [],
   "source": [
    "print len(image_list) # Optionally pull these photos"
   ]
  },
  {
   "cell_type": "code",
   "execution_count": null,
   "metadata": {
    "collapsed": false
   },
   "outputs": [],
   "source": [
    "activity_list = []\n",
    "for tag in soup.findAll('div', attrs={\"class\":\"item name\"}):\n",
    "    txt = str(tag.text)\n",
    "    txt.replace('\\n', '')\n",
    "    txt.replace(' ', '')\n",
    "    txt.rstrip('\\r\\n')\n",
    "    clean = ' '.join([line.strip() for line in txt.strip().splitlines()])\n",
    "    activity_list.append(clean)\n",
    "    #print tag.next_sibling"
   ]
  },
  {
   "cell_type": "markdown",
   "metadata": {
    "collapsed": true
   },
   "source": [
    "### Eat and drink\n",
    "Pull lists of places to eat and drink from the YELP API."
   ]
  },
  {
   "cell_type": "code",
   "execution_count": null,
   "metadata": {
    "collapsed": true
   },
   "outputs": [],
   "source": [
    "# Yelp Fusion no longer uses OAuth as of December 7, 2017.\n",
    "# You no longer need to provide Client ID to fetch Data\n",
    "# It now uses private keys to authenticate requests (API Key)\n",
    "# You can find it on\n",
    "# https://www.yelp.com/developers/v3/manage_app\n",
    "YELP_API_HOST = 'https://api.yelp.com'\n",
    "YELP_SEARCH_PATH = '/v3/businesses/search'\n",
    "YELP_BUSINESS_PATH = '/v3/businesses/'\n",
    "\n",
    "YELP_SEARCH_LIMIT = 3\n",
    "\n",
    "def request(host, path, api_key, url_params=None):\n",
    "    \"\"\"Given your API_KEY, send a GET request to the API.\n",
    "\n",
    "    Args:\n",
    "        host (str): The domain host of the API.\n",
    "        path (str): The path of the API after the domain.\n",
    "        API_KEY (str): Your API Key.\n",
    "        url_params (dict): An optional set of query parameters in the request.\n",
    "\n",
    "    Returns:\n",
    "        dict: The JSON response from the request.\n",
    "\n",
    "    Raises:\n",
    "        HTTPError: An error occurs from the HTTP request.\n",
    "    \"\"\"\n",
    "    url_params = url_params or {}\n",
    "    url = '{0}{1}'.format(host, quote(path.encode('utf8')))\n",
    "    headers = {\n",
    "        'Authorization': 'Bearer %s' % api_key,\n",
    "    }\n",
    "\n",
    "    print(u'Querying {0} ...'.format(url))\n",
    "\n",
    "    response = requests.request('GET', url, headers=headers, params=url_params)\n",
    "\n",
    "    return response.json()\n",
    "\n",
    "\n",
    "def search(api_key, term, location):\n",
    "    \"\"\"Query the Search API by a search term and location.\n",
    "\n",
    "    Args:\n",
    "        term (str): The search term passed to the API.\n",
    "        location (str): The search location passed to the API.\n",
    "\n",
    "    Returns:\n",
    "        dict: The JSON response from the request.\n",
    "    \"\"\"\n",
    "\n",
    "    url_params = {\n",
    "        'term': term.replace(' ', '+'),\n",
    "        'location': location.replace(' ', '+'),\n",
    "        'limit': YELP_SEARCH_LIMIT\n",
    "    }\n",
    "    return request(YELP_API_HOST, YELP_SEARCH_PATH, api_key, url_params=url_params)\n",
    "\n",
    "\n",
    "def get_business(api_key, business_id):\n",
    "    \"\"\"Query the Business API by a business ID.\n",
    "\n",
    "    Args:\n",
    "        business_id (str): The ID of the business to query.\n",
    "\n",
    "    Returns:\n",
    "        dict: The JSON response from the request.\n",
    "    \"\"\"\n",
    "    business_path = YELP_BUSINESS_PATH + business_id\n",
    "\n",
    "    return request(YELP_API_HOST, business_path, api_key)\n",
    "\n",
    "\n",
    "def query_api(term, location):\n",
    "    \"\"\"Queries the API by the input values from the user.\n",
    "\n",
    "    Args:\n",
    "        term (str): The search term to query.\n",
    "        location (str): The location of the business to query.\n",
    "    \"\"\"\n",
    "    response = search(YELP_API_KEY, term, location)\n",
    "\n",
    "    businesses = response.get('businesses')\n",
    "\n",
    "    if not businesses:\n",
    "        print(u'No businesses for {0} in {1} found.'.format(term, location))\n",
    "        return\n",
    "    \n",
    "    return businesses\n"
   ]
  },
  {
   "cell_type": "code",
   "execution_count": null,
   "metadata": {
    "collapsed": false
   },
   "outputs": [],
   "source": [
    "json_data = query_api(YELP_SEARCH_TERM, YELP_LOCATION)"
   ]
  },
  {
   "cell_type": "code",
   "execution_count": null,
   "metadata": {
    "collapsed": false
   },
   "outputs": [],
   "source": [
    "json_data"
   ]
  },
  {
   "cell_type": "code",
   "execution_count": null,
   "metadata": {
    "collapsed": false
   },
   "outputs": [],
   "source": [
    "json_hotel_data = query_api('hotels', YELP_LOCATION)"
   ]
  },
  {
   "cell_type": "code",
   "execution_count": null,
   "metadata": {
    "collapsed": false
   },
   "outputs": [],
   "source": [
    "json_hotel_data"
   ]
  },
  {
   "cell_type": "code",
   "execution_count": null,
   "metadata": {
    "collapsed": false
   },
   "outputs": [],
   "source": [
    "bar_review_dict = { 4.0: [\"It's OK if you're in a pinch.\",\n",
    "                      \"We had a fun time, it's fine.\",\n",
    "                      \"Good place.\"],\n",
    "                4.5: [\"Very nice place. There's some things they could do better, but not many.\",\n",
    "                      \"Good place, we recommend it!\",\n",
    "                      \"We had a great time.\"],\n",
    "                5.0: [\"Excellent, you have to go!\",\n",
    "                      \"I would recommend it to anyone.\",\n",
    "                      \"If you're in town, go here.\"]}\n",
    "price_dict = {'$$': [\"You get a lot for what you pay for!\",\n",
    "                     \"Cheap and good.\",\n",
    "                     \"Won't hurt your budget\"],\n",
    "              '$$$': [\"Getting on the pricey side but still good.\",\n",
    "                      \"A bit expensive\",\n",
    "                      \"Not too bad.\"],\n",
    "              '$$$$': [\"Better bring your big wallet or purse.\",\n",
    "                       \"On the fancier end in terms of price\",\n",
    "                       \"A bit pricey.\"]}\n",
    "hotel_review_dict = {'3.5': [\"WAY too pricey for what you get. Sheesh!\",\n",
    "                             \"Was not satisfied, the shower/tub combination was tiny and reminded me of one in motel 6 bathroom.\",\n",
    "                             \"All in all, definitely not worth the price and I will not stay there again.  Plenty of other places to choose from in the area.\"\n",
    "    \n",
    "                            ], \n",
    "                     '4.0': [\"A typically great experience. I stayed for a whirlwind visit and didn't get to spend much time in the room. Anyway everything was more or less to my liking.\",\n",
    "                             \"I had a basic room and it was just right. The bed was comfortable, there was enough space for my clothes and suitcase, and best of all the bathroom was large and bright. I slept okay except for early morning neighborhood noise - not the hotels fault at all. Water pressure excellent in the shower.\",\n",
    "                             \"Well stocked workout room. I had several great workouts here.\"\n",
    "                            ],\n",
    "                     '4.5': [\"One of the better hotels I ever stayed and made me want to join their reward program if they have one. It felt luxurious, clean, big really love it.\",\n",
    "                             \"The staff was nice and helpful. We liked our room, and it was very clean. The bathroom was nice also. The hallways are painted a dark color which makes it seem gloomy.\",\n",
    "                             \"The only thing I did not like was the in-room cash bar and min fridge. I mean really. Who in their right mind is going to spend money on that crap. Take my advice: go to Walgreens for snacks and drinks, and use a cup with ice. All that stuff did was take up counter space, and believe me there is not any extra to go around.\"\n",
    "                            ],\n",
    "                     '5.0': [\"The rooms are a decent size and the bathroom is nice as well. For a woman who travels a lot, this place is great.\",\n",
    "                             \"I stayed here for work this week and was thoroughly impressed.  The room was exceptionally clean and quiet.  The bathroom was large and well-kept.  The hallway was noisy because a utility closet was at the end of the hall, but I didn't hear anything once I was in my room.\",\n",
    "                             \"Our stay was outstanding. The staff was amazing and went out of their way. I'm beginning to wonder why I stay at Hiltons and Marriotts, that might be changing.\"\n",
    "                            ]}"
   ]
  },
  {
   "cell_type": "markdown",
   "metadata": {
    "collapsed": true
   },
   "source": [
    "### Where to sleep\n",
    "Put a spotlight on a rental from AirBnB"
   ]
  },
  {
   "cell_type": "code",
   "execution_count": null,
   "metadata": {
    "collapsed": false
   },
   "outputs": [],
   "source": [
    "from geopy.geocoders import Nominatim\n",
    "geolocator = Nominatim()\n",
    "location = geolocator.geocode(city)"
   ]
  },
  {
   "cell_type": "code",
   "execution_count": null,
   "metadata": {
    "collapsed": false
   },
   "outputs": [],
   "source": [
    "print location.latitude\n",
    "print location.longitude"
   ]
  },
  {
   "cell_type": "code",
   "execution_count": null,
   "metadata": {
    "collapsed": false
   },
   "outputs": [],
   "source": [
    "google_maps_string = \"https://www.google.com/maps/embed/v1/place?q=\" + str(location.latitude) + \",\" + str(location.longitude) + \"&amp;key=\" + MAPS_API_KEY"
   ]
  },
  {
   "cell_type": "markdown",
   "metadata": {},
   "source": [
    "### Putting it all together\n",
    "Put all the component pieces together into the blog post."
   ]
  },
  {
   "cell_type": "code",
   "execution_count": null,
   "metadata": {
    "collapsed": true
   },
   "outputs": [],
   "source": [
    "summary_text = summarize(content, words=500)"
   ]
  },
  {
   "cell_type": "code",
   "execution_count": null,
   "metadata": {
    "collapsed": false,
    "scrolled": false
   },
   "outputs": [],
   "source": [
    "display(HTML(summary_text))\n",
    "display(HTML(\"<h2>Things to do</h2> The following are just some of the most visited attractions in the area, enjoy!\"))\n",
    "activity_counting_list = []\n",
    "for activity in activity_list:\n",
    "    if activity in activity_counting_list:\n",
    "        pass\n",
    "    else:\n",
    "        activity_counting_list.append(activity)\n",
    "        try:\n",
    "            summed = wikipedia.summary(activity, sentences=5)\n",
    "            activity_summary = summarize(summed, words=100)\n",
    "            activity_page = wikipedia.page(activity)\n",
    "            try:\n",
    "                for image in activity_page.images:\n",
    "                    end = str(image)[-30:]\n",
    "                    if (\"Commons-logo\" and \"svg\") not in end:\n",
    "                        image_name = activity_page.title\n",
    "                        urllib.urlretrieve(image, image_name)\n",
    "                        # Resize this image to 300px wide by 250px tall\n",
    "                        with open(image_name, 'r+b') as f:\n",
    "                            with Image.open(f) as image:\n",
    "                                cover = resizeimage.resize_cover(image, [300, 250])\n",
    "                                cover.save(\"zzz\" + image_name + '.jpg', image.format, quality=100)\n",
    "                        break\n",
    "            except Exception, msg:\n",
    "                pass\n",
    "            display(HTML(\"<strong>\" + activity + \"</strong>\" + \" \" + activity_summary))\n",
    "        except:\n",
    "            pass\n",
    "display(HTML(\"<h2>Where to grab a cocktail</h2>\"))\n",
    "\n",
    "for index, business in enumerate(json_data):\n",
    "    display(HTML(\"<h3>Spotlight:</h3>\" + \"<h4>\" + business['name'] + \"</h4>\"))\n",
    "    display(HTML(\"<em>How are the prices?</em> \" + price_dict.get(business['price'], \"Cheap cheap cheap.\")[index]))\n",
    "    display(HTML(\"<em>What did you think?</em> \" + bar_review_dict.get(business['rating'], \"You should probably avoid it.\")[index])) \n",
    "    image_name = \"zzz\" + city + \"_\" + business['id'] #Name them with zzz so we can grab easy\n",
    "    urllib.urlretrieve(business['image_url'], image_name)\n",
    "    # Resize this image to 300px wide by 250px tall\n",
    "    with open(image_name, 'r+b') as f:\n",
    "        with Image.open(f) as image:\n",
    "            cover = resizeimage.resize_cover(image, [300, 250])\n",
    "            cover.save(\"zzz\" + image_name + '.jpg', image.format, quality=100)\n",
    "    display(HTML(\"More reviews here\" + business['url']))\n",
    "\n",
    "display(HTML(\"<h2>If you want to stay over...</h2>\"))\n",
    "\n",
    "for index, business in enumerate(json_hotel_data):\n",
    "    display(HTML(\"<h3>Spotlight:</h3>\" + \"<h4>\" + business['name'] + \"</h4>\"))\n",
    "    display(HTML(\"<em>How are the prices?</em> \" + price_dict.get(business['price'], \"Cheap cheap cheap.\")[index]))\n",
    "    display(HTML(\"<em>What did you think?<em> \" + hotel_review_dict.get(str(business['rating']), \"You should probably avoid it.\")[index])) \n",
    "    image_name = \"zzz\" + city + \"_\" + business['id'] #Name them with zzz so we can grab easy\n",
    "    urllib.urlretrieve(business['image_url'], image_name)\n",
    "    # Resize this image to 300px wide by 250px tall\n",
    "    with open(image_name, 'r+b') as f:\n",
    "        with Image.open(f) as image:\n",
    "            cover = resizeimage.resize_cover(image, [300, 250])\n",
    "            cover.save(\"zzz\" + image_name + '.jpg', image.format, quality=100)\n",
    "    display(HTML(\"More reviews here\" + business['url']))\n",
    "    "
   ]
  },
  {
   "cell_type": "code",
   "execution_count": null,
   "metadata": {
    "collapsed": false
   },
   "outputs": [],
   "source": [
    "display(HTML(\"<iframe width='100%' height='450' frameborder='20' style='border:line' src=\" + google_maps_string + \"></iframe>\"))"
   ]
  },
  {
   "cell_type": "markdown",
   "metadata": {},
   "source": [
    "### Manipulating other images"
   ]
  },
  {
   "cell_type": "code",
   "execution_count": null,
   "metadata": {
    "collapsed": false
   },
   "outputs": [],
   "source": [
    "# Set the remaining images to 500px wide by 400px\n",
    "for index, image in enumerate(wikipage.images):\n",
    "    end = str(image)[-50:]\n",
    "    try:\n",
    "        if \"Montage\" or \"Skyline\" or \"Center\" in end:\n",
    "            featured_image = urllib.urlretrieve(wikipage.images[index], \"featured_raw_\" + str(index))\n",
    "            # Set this to 600px wide by 900\n",
    "            with open(\"featured_raw_\" + str(index), 'r+b') as f:\n",
    "                with Image.open(f) as image:\n",
    "                    cover = resizeimage.resize_cover(image, [600, 900])\n",
    "                    cover.save(\"zzz\" + city_shorthand + '_featured_' + str(index) + '.jpg', image.format, quality=100)\n",
    "\n",
    "        if city_shorthand in end:\n",
    "            image_name = city_shorthand + \"_\" + str(index)\n",
    "            urllib.urlretrieve(wikipage.images[index], image_name)\n",
    "            with open(image_name, 'r+b') as f:\n",
    "                with Image.open(f) as image:\n",
    "                    try:\n",
    "                        cover = resizeimage.resize_cover(image, [500, 450])\n",
    "                        cover.save(\"zzz\" + image_name + '.jpg', image.format, quality=100)\n",
    "                    except Exception, msg:\n",
    "                        print msg\n",
    "                        cover = resizeimage.resize_cover(image, [300, 250])\n",
    "                        cover.save(\"zzz\" + image_name + '.jpg', image.format, quality=100)\n",
    "    except Exception, msg:\n",
    "        print msg\n"
   ]
  },
  {
   "cell_type": "code",
   "execution_count": null,
   "metadata": {
    "collapsed": true
   },
   "outputs": [],
   "source": []
  }
 ],
 "metadata": {
  "kernelspec": {
   "display_name": "Python 2",
   "language": "python",
   "name": "python2"
  },
  "language_info": {
   "codemirror_mode": {
    "name": "ipython",
    "version": 2
   },
   "file_extension": ".py",
   "mimetype": "text/x-python",
   "name": "python",
   "nbconvert_exporter": "python",
   "pygments_lexer": "ipython2",
   "version": "2.7.13"
  }
 },
 "nbformat": 4,
 "nbformat_minor": 2
}
